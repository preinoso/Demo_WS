{
    "nbformat_minor": 1, 
    "cells": [
        {
            "execution_count": 1, 
            "cell_type": "code", 
            "metadata": {}, 
            "outputs": [
                {
                    "output_type": "stream", 
                    "name": "stdout", 
                    "text": "Waiting for a Spark session to start...\nSpark Initialization Done! ApplicationId = app-20181022145708-0000\n"
                }, 
                {
                    "execution_count": 1, 
                    "metadata": {}, 
                    "data": {
                        "text/html": "<div>\n<style scoped>\n    .dataframe tbody tr th:only-of-type {\n        vertical-align: middle;\n    }\n\n    .dataframe tbody tr th {\n        vertical-align: top;\n    }\n\n    .dataframe thead th {\n        text-align: right;\n    }\n</style>\n<table border=\"1\" class=\"dataframe\">\n  <thead>\n    <tr style=\"text-align: right;\">\n      <th></th>\n      <th>ID</th>\n      <th>Gender</th>\n      <th>Status</th>\n      <th>Children</th>\n      <th>Est Income</th>\n      <th>Car Owner</th>\n      <th>Age</th>\n      <th>LongDistance</th>\n      <th>International</th>\n      <th>Local</th>\n      <th>Dropped</th>\n      <th>Paymethod</th>\n      <th>LocalBilltype</th>\n      <th>LongDistanceBilltype</th>\n      <th>Usage</th>\n      <th>RatePlan</th>\n    </tr>\n  </thead>\n  <tbody>\n    <tr>\n      <th>0</th>\n      <td>1</td>\n      <td>F</td>\n      <td>S</td>\n      <td>1</td>\n      <td>38000.00</td>\n      <td>N</td>\n      <td>24.393333</td>\n      <td>23.56</td>\n      <td>0.0</td>\n      <td>206.08</td>\n      <td>0</td>\n      <td>CC</td>\n      <td>Budget</td>\n      <td>Intnl_discount</td>\n      <td>229.64</td>\n      <td>3</td>\n    </tr>\n    <tr>\n      <th>1</th>\n      <td>6</td>\n      <td>M</td>\n      <td>M</td>\n      <td>2</td>\n      <td>29616.00</td>\n      <td>N</td>\n      <td>49.426667</td>\n      <td>29.78</td>\n      <td>0.0</td>\n      <td>45.50</td>\n      <td>0</td>\n      <td>CH</td>\n      <td>FreeLocal</td>\n      <td>Standard</td>\n      <td>75.29</td>\n      <td>2</td>\n    </tr>\n    <tr>\n      <th>2</th>\n      <td>8</td>\n      <td>M</td>\n      <td>M</td>\n      <td>0</td>\n      <td>19732.80</td>\n      <td>N</td>\n      <td>50.673333</td>\n      <td>24.81</td>\n      <td>0.0</td>\n      <td>22.44</td>\n      <td>0</td>\n      <td>CC</td>\n      <td>FreeLocal</td>\n      <td>Standard</td>\n      <td>47.25</td>\n      <td>3</td>\n    </tr>\n    <tr>\n      <th>3</th>\n      <td>11</td>\n      <td>M</td>\n      <td>S</td>\n      <td>2</td>\n      <td>96.33</td>\n      <td>N</td>\n      <td>56.473333</td>\n      <td>26.13</td>\n      <td>0.0</td>\n      <td>32.88</td>\n      <td>1</td>\n      <td>CC</td>\n      <td>Budget</td>\n      <td>Standard</td>\n      <td>59.01</td>\n      <td>1</td>\n    </tr>\n    <tr>\n      <th>4</th>\n      <td>14</td>\n      <td>F</td>\n      <td>M</td>\n      <td>2</td>\n      <td>52004.80</td>\n      <td>N</td>\n      <td>25.140000</td>\n      <td>5.03</td>\n      <td>0.0</td>\n      <td>23.11</td>\n      <td>0</td>\n      <td>CH</td>\n      <td>Budget</td>\n      <td>Intnl_discount</td>\n      <td>28.14</td>\n      <td>1</td>\n    </tr>\n  </tbody>\n</table>\n</div>", 
                        "text/plain": "   ID Gender Status  Children  Est Income Car Owner        Age  LongDistance  \\\n0   1      F      S         1    38000.00         N  24.393333         23.56   \n1   6      M      M         2    29616.00         N  49.426667         29.78   \n2   8      M      M         0    19732.80         N  50.673333         24.81   \n3  11      M      S         2       96.33         N  56.473333         26.13   \n4  14      F      M         2    52004.80         N  25.140000          5.03   \n\n   International   Local  Dropped Paymethod LocalBilltype  \\\n0            0.0  206.08        0        CC        Budget   \n1            0.0   45.50        0        CH     FreeLocal   \n2            0.0   22.44        0        CC     FreeLocal   \n3            0.0   32.88        1        CC        Budget   \n4            0.0   23.11        0        CH        Budget   \n\n  LongDistanceBilltype   Usage  RatePlan  \n0       Intnl_discount  229.64         3  \n1             Standard   75.29         2  \n2             Standard   47.25         3  \n3             Standard   59.01         1  \n4       Intnl_discount   28.14         1  "
                    }, 
                    "output_type": "execute_result"
                }
            ], 
            "source": "# The code was removed by Watson Studio for sharing."
        }, 
        {
            "execution_count": null, 
            "cell_type": "code", 
            "metadata": {}, 
            "outputs": [], 
            "source": ""
        }
    ], 
    "metadata": {
        "kernelspec": {
            "display_name": "Python 3.5 with Spark", 
            "name": "python3", 
            "language": "python3"
        }, 
        "language_info": {
            "mimetype": "text/x-python", 
            "nbconvert_exporter": "python", 
            "version": "3.5.4", 
            "name": "python", 
            "file_extension": ".py", 
            "pygments_lexer": "ipython3", 
            "codemirror_mode": {
                "version": 3, 
                "name": "ipython"
            }
        }
    }, 
    "nbformat": 4
}